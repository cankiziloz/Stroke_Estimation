{
 "cells": [
  {
   "cell_type": "code",
   "execution_count": null,
   "id": "829c0614-e05f-4324-83d5-ad61a5a0273c",
   "metadata": {},
   "outputs": [],
   "source": [
    "import matplotlib.pyplot as plt\n",
    "import numpy as np\n",
    "\n",
    "import cv2\n",
    "from skimage.color import rgb2gray\n",
    "from skimage.measure import label "
   ]
  },
  {
   "cell_type": "code",
   "execution_count": null,
   "id": "dd853a0b-f9c9-443f-8529-a888ed7d29fe",
   "metadata": {
    "tags": []
   },
   "outputs": [],
   "source": [
    "def mask_image(im):\n",
    "    '''This function returns the proper binary form of the taken input image'''\n",
    "    \n",
    "    # Remove the most intensive pixels as they refer to the skull\n",
    "    mask = (im != 1.0)\n",
    "    \n",
    "    # Apply the mask to the image\n",
    "    im_masked = np.where(mask, im, 0)\n",
    "    \n",
    "    # Remove unwanted parts around the brain\n",
    "    mask_brain = binary_opening(im_masked, structure=np.ones((13,13))).astype(int)\n",
    "    \n",
    "    # Fill the blanks in the binary image and return it\n",
    "    return binary_fill_holes(mask_brain)"
   ]
  },
  {
   "cell_type": "code",
   "execution_count": null,
   "id": "ecebfcb4-c0f5-47d0-a1a3-c27e20545e9e",
   "metadata": {},
   "outputs": [],
   "source": [
    "def brain_component(mask):\n",
    "    '''This function returns the biggest component of the binary image'''\n",
    "    \n",
    "    # Label the binary image\n",
    "    labels = label(mask)\n",
    "    \n",
    "    # Return the biggest component of labeled binary image\n",
    "    return labels == np.argmax(np.bincount(labels.flat, weights=brain.flat))"
   ]
  },
  {
   "cell_type": "code",
   "execution_count": null,
   "id": "561bcba9-f901-47ee-bd59-f4af464da8f3",
   "metadata": {},
   "outputs": [],
   "source": [
    "def crop_image(im, mask):\n",
    "    '''This function takes image and its mask, returns the image which is cropped according to the mask frames'''\n",
    "    \n",
    "    # Find the indices of white spaces in the binary image\n",
    "    indices = np.where(mask == 1)\n",
    "    \n",
    "    # Create a list of zip objects of x and y indices\n",
    "    indices_zipped = list(zip(indices[0], indices[1]))\n",
    "    \n",
    "    # Find the up-most and down-most pixels\n",
    "    x_min = list(indices_zipped[0])\n",
    "    x_max = list(indices_zipped[-1])\n",
    "    \n",
    "    # Sort the zip objects according to their y index values\n",
    "    indices_zipped_sort = sorted(indices_zipped, key = lambda x: x[1])\n",
    "    \n",
    "    # Find the right-most and left-most pixels\n",
    "    y_min = list(indices_zipped_sort[0])\n",
    "    y_max = list(indices_zipped_sort[-1])\n",
    "    \n",
    "    # Apply the mask to the image\n",
    "    im_masked = np.where(mask, im, 0)\n",
    "    \n",
    "    # Crop the image by clicing and return it\n",
    "    im_cropped = im_masked[x_min[0]:x_max[0], y_min[1]:y_max[1]]\n",
    "    return im_cropped"
   ]
  }
 ],
 "metadata": {
  "kernelspec": {
   "display_name": "Python 3",
   "language": "python",
   "name": "python3"
  },
  "language_info": {
   "codemirror_mode": {
    "name": "ipython",
    "version": 3
   },
   "file_extension": ".py",
   "mimetype": "text/x-python",
   "name": "python",
   "nbconvert_exporter": "python",
   "pygments_lexer": "ipython3",
   "version": "3.8.8"
  }
 },
 "nbformat": 4,
 "nbformat_minor": 5
}
